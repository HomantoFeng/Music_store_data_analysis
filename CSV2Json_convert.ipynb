{
  "nbformat": 4,
  "nbformat_minor": 0,
  "metadata": {
    "colab": {
      "provenance": [],
      "authorship_tag": "ABX9TyNTgIZkLuAFNvk+DA4hAXdR",
      "include_colab_link": true
    },
    "kernelspec": {
      "name": "python3",
      "display_name": "Python 3"
    },
    "language_info": {
      "name": "python"
    }
  },
  "cells": [
    {
      "cell_type": "markdown",
      "metadata": {
        "id": "view-in-github",
        "colab_type": "text"
      },
      "source": [
        "<a href=\"https://colab.research.google.com/github/HomantoFeng/Music_store_data_analysis/blob/main/CSV2Json_convert.ipynb\" target=\"_parent\"><img src=\"https://colab.research.google.com/assets/colab-badge.svg\" alt=\"Open In Colab\"/></a>"
      ]
    },
    {
      "cell_type": "code",
      "execution_count": 9,
      "metadata": {
        "id": "CAy1-aTkxVQO",
        "colab": {
          "base_uri": "https://localhost:8080/"
        },
        "outputId": "a9639c0c-7359-49cd-bb24-0506aaea3b6c"
      },
      "outputs": [
        {
          "output_type": "stream",
          "name": "stdout",
          "text": [
            "Converted: employee.csv -> employee.json\n",
            "Converted: invoice.csv -> invoice.json\n",
            "Converted: media_type.csv -> media_type.json\n",
            "Converted: album2.csv -> album2.json\n",
            "Converted: invoice_line.csv -> invoice_line.json\n",
            "Converted: track.csv -> track.json\n",
            "Converted: album.csv -> album.json\n",
            "Converted: genre.csv -> genre.json\n",
            "Converted: playlist.csv -> playlist.json\n",
            "Converted: playlist_track.csv -> playlist_track.json\n",
            "Converted: customer.csv -> customer.json\n",
            "Converted: artist.csv -> artist.json\n"
          ]
        }
      ],
      "source": [
        "import os\n",
        "import pandas as pd\n",
        "\n",
        "def convert_csv_to_json(folder_path, output_folder=None):\n",
        "    \"\"\"\n",
        "    Converts all CSV files in the given folder to JSON files.\n",
        "\n",
        "    Parameters:\n",
        "    - folder_path (str): Path to the folder containing CSV files.\n",
        "    - output_folder (str, optional): Path to the folder to save JSON files. Defaults to folder_path.\n",
        "    \"\"\"\n",
        "    if output_folder is None:\n",
        "        output_folder = folder_path  # Save JSON files in the same folder if no output folder is provided\n",
        "\n",
        "    # Ensure output folder exists\n",
        "    os.makedirs(output_folder, exist_ok=True)\n",
        "\n",
        "    # List all CSV files in the folder\n",
        "    csv_files = [f for f in os.listdir(folder_path) if f.endswith('.csv')]\n",
        "\n",
        "    for csv_file in csv_files:\n",
        "        # Construct full file paths\n",
        "        csv_path = os.path.join(folder_path, csv_file)\n",
        "        json_path = os.path.join(output_folder, os.path.splitext(csv_file)[0] + '.json')\n",
        "\n",
        "        # Read the CSV file\n",
        "        df = pd.read_csv(csv_path)\n",
        "\n",
        "        # Convert to JSON and save\n",
        "        df.to_json(json_path, orient='records', indent=4)\n",
        "\n",
        "        print(f\"Converted: {csv_file} -> {os.path.basename(json_path)}\")\n",
        "\n",
        "# Example usage\n",
        "folder_path = './music_store_data'  # Replace with your folder path\n",
        "output_folder = './music_store_data_jsonconvert'  # Replace with desired output folder (optional)\n",
        "convert_csv_to_json(folder_path, output_folder)\n"
      ]
    },
    {
      "cell_type": "code",
      "source": [
        "%cd ./music_store_data_jsonconvert"
      ],
      "metadata": {
        "colab": {
          "base_uri": "https://localhost:8080/"
        },
        "id": "SI5StSDbyXm8",
        "outputId": "7817fa5f-c38f-4abc-8792-385d2314ce53"
      },
      "execution_count": 10,
      "outputs": [
        {
          "output_type": "stream",
          "name": "stdout",
          "text": [
            "/content/music_store_data_jsonconvert\n"
          ]
        }
      ]
    },
    {
      "cell_type": "code",
      "source": [
        "!zip -r json_convert.zip /content/music_store_data_jsonconvert\n",
        "\n"
      ],
      "metadata": {
        "id": "KOnixvCfzc3-",
        "colab": {
          "base_uri": "https://localhost:8080/"
        },
        "outputId": "85098345-6b40-479d-b3e5-a39c4f4f2f77"
      },
      "execution_count": 14,
      "outputs": [
        {
          "output_type": "stream",
          "name": "stdout",
          "text": [
            "  adding: content/music_store_data_jsonconvert/ (stored 0%)\n",
            "  adding: content/music_store_data_jsonconvert/invoice.json (deflated 94%)\n",
            "  adding: content/music_store_data_jsonconvert/album2.json (deflated 82%)\n",
            "  adding: content/music_store_data_jsonconvert/artist.json (deflated 80%)\n",
            "  adding: content/music_store_data_jsonconvert/media_type.json (deflated 71%)\n",
            "  adding: content/music_store_data_jsonconvert/invoice_line.json (deflated 95%)\n",
            "  adding: content/music_store_data_jsonconvert/customer.json (deflated 81%)\n",
            "  adding: content/music_store_data_jsonconvert/track.json (deflated 88%)\n",
            "  adding: content/music_store_data_jsonconvert/playlist.json (deflated 80%)\n",
            "  adding: content/music_store_data_jsonconvert/employee.json (deflated 81%)\n",
            "  adding: content/music_store_data_jsonconvert/playlist_track.json (deflated 95%)\n",
            "  adding: content/music_store_data_jsonconvert/genre.json (deflated 79%)\n",
            "  adding: content/music_store_data_jsonconvert/album.json (deflated 81%)\n"
          ]
        }
      ]
    },
    {
      "cell_type": "code",
      "source": [
        "from google.colab import files\n",
        "files.download('json_convert.zip')"
      ],
      "metadata": {
        "colab": {
          "base_uri": "https://localhost:8080/",
          "height": 17
        },
        "id": "ZwrqaGNZ3SPl",
        "outputId": "c2047989-21b9-49fd-daa7-b782049d6b61"
      },
      "execution_count": 15,
      "outputs": [
        {
          "output_type": "display_data",
          "data": {
            "text/plain": [
              "<IPython.core.display.Javascript object>"
            ],
            "application/javascript": [
              "\n",
              "    async function download(id, filename, size) {\n",
              "      if (!google.colab.kernel.accessAllowed) {\n",
              "        return;\n",
              "      }\n",
              "      const div = document.createElement('div');\n",
              "      const label = document.createElement('label');\n",
              "      label.textContent = `Downloading \"${filename}\": `;\n",
              "      div.appendChild(label);\n",
              "      const progress = document.createElement('progress');\n",
              "      progress.max = size;\n",
              "      div.appendChild(progress);\n",
              "      document.body.appendChild(div);\n",
              "\n",
              "      const buffers = [];\n",
              "      let downloaded = 0;\n",
              "\n",
              "      const channel = await google.colab.kernel.comms.open(id);\n",
              "      // Send a message to notify the kernel that we're ready.\n",
              "      channel.send({})\n",
              "\n",
              "      for await (const message of channel.messages) {\n",
              "        // Send a message to notify the kernel that we're ready.\n",
              "        channel.send({})\n",
              "        if (message.buffers) {\n",
              "          for (const buffer of message.buffers) {\n",
              "            buffers.push(buffer);\n",
              "            downloaded += buffer.byteLength;\n",
              "            progress.value = downloaded;\n",
              "          }\n",
              "        }\n",
              "      }\n",
              "      const blob = new Blob(buffers, {type: 'application/binary'});\n",
              "      const a = document.createElement('a');\n",
              "      a.href = window.URL.createObjectURL(blob);\n",
              "      a.download = filename;\n",
              "      div.appendChild(a);\n",
              "      a.click();\n",
              "      div.remove();\n",
              "    }\n",
              "  "
            ]
          },
          "metadata": {}
        },
        {
          "output_type": "display_data",
          "data": {
            "text/plain": [
              "<IPython.core.display.Javascript object>"
            ],
            "application/javascript": [
              "download(\"download_abd81d24-b815-4475-b940-b5f0c5ffaf5e\", \"json_convert.zip\", 213460)"
            ]
          },
          "metadata": {}
        }
      ]
    }
  ]
}